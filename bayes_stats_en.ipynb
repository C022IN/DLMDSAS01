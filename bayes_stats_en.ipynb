{
 "cells": [
  {
   "cell_type": "markdown",
   "metadata": {
    "lang": "en"
   },
   "source": [
    "#### Bayesian Statistics Interactive\n",
    "\n",
    "Bayes' theorem:\n",
    "For two events A and B, for B ≠ 0, Bayes' theorem is:\n",
    "\n",
    "$$ {P(A|B)} = \\frac{P(B|A) \\bullet P(A)}{P(B)}$$\n",
    "\n",
    "P(A | B) is the (conditional) probability of event A under the condition that B has occurred. P(B | A) is the (conditional) probability of event B under the condition that A has occurred\n",
    "P(A) is the probability (initial probability) that event A will occur\n",
    "P(B) is the probability (initial probability) that event B will occur\n",
    "Initial probability means that one event is viewed independently of another."
   ]
  },
  {
   "cell_type": "code",
   "execution_count": 1,
   "metadata": {
    "lang": "de"
   },
   "outputs": [],
   "source": [
    "#resourcen\n",
    "\n",
    "import ipywidgets as widgets\n",
    "import numpy as np\n"
   ]
  },
  {
   "cell_type": "code",
   "execution_count": 2,
   "metadata": {
    "lang": "de"
   },
   "outputs": [],
   "source": [
    "# interactive switches\n",
    "\n",
    "# layout limitations\n",
    "layout_right_text = {'width': '20%'}\n",
    "layout_left_text = {'width': '40%'}\n",
    "\n",
    "\n",
    "# Reliability of detection if patient falls ill\n",
    "pB_A = widgets.BoundedFloatText(value=0.99, min=0.01, max=1.0, step=0.01, layout=layout_right_text)\n",
    "\n",
    "# Proportion of positive tests in healthy patients\n",
    "pB_Anot = widgets.BoundedFloatText(value=0.0005, min=0.0001, max=1.0, step=0.0001, layout=layout_right_text)\n",
    "\n",
    "# spreading of diseaese\n",
    "pA = widgets.BoundedFloatText(value=0.0001, min=0.0001, max=0.50, step=0.0001, layout=layout_right_text)\n",
    "\n",
    "#\n",
    "p_spreading = widgets.HBox(\n",
    "    [\n",
    "        widgets.Label(value=\"Spread of the disease:\", layout=layout_left_text),\n",
    "        pA\n",
    "    ]\n",
    ")\n",
    "#\n",
    "p_verify = widgets.HBox(\n",
    "    [\n",
    "        widgets.Label(\n",
    "            value='Verifiability of the test when the patient is ill:', layout=layout_left_text),\n",
    "        pB_A        \n",
    "    ]\n",
    ")\n",
    "#\n",
    "p_error = widgets.HBox(\n",
    "    [\n",
    "        widgets.Label(value='Error rate of the test if the patient is not ill:', layout=layout_left_text),\n",
    "        pB_Anot\n",
    "    ]\n",
    ")\n",
    "#\n",
    "style = {'description_width': 'initial'}\n",
    "outpriori = widgets.VBox(\n",
    "[\n",
    "    # P(ill) = pA\n",
    "    widgets.Box([widgets.Label(value=\"P(ill)\", layout=layout_left_text),\n",
    "                widgets.FloatText(description = \"\", value = pA.value ,\\\n",
    "                                  layout=layout_right_text, disabled = True,style=style)]\n",
    "                ),\n",
    "    # P(not ill) = 1-pA\n",
    "    widgets.Box([widgets.Label(value=\"P(not ill)\", layout=layout_left_text),\n",
    "                 widgets.FloatText(value = ((1 - pA.value/100)),\\\n",
    "                                   layout =layout_right_text, disabled = True,style=style)]\n",
    "               ),\n",
    "    # P (test _positive | ill) = pB_ A (p detection reliability)\n",
    "    widgets.Box([widgets.Label(value= \"P(test _positive | ill)\", layout=layout_left_text),\n",
    "                 widgets.FloatText(value = '%1.6f' % (pB_A.value),\\\n",
    "                                   layout=layout_right_text, disabled = True,style=style)]\n",
    "               ),\n",
    "    # P (test _positive | not ill) = pB_ anot (positive test in healthy patient)\n",
    "    widgets.Box([widgets.Label(value=\"P(test _positive | not ill)\", layout=layout_left_text),\n",
    "                 widgets.FloatText(value = '%1.6f' %(pB_Anot.value),\\\n",
    "                                   layout=layout_right_text, disabled = True, style=style)]\n",
    "               )\n",
    "])\n",
    "# P (ill | test _positive) = [pA * p detection security] / [pA * p detection security + pA_ not *p error rate] {= pB over total probability}\n",
    "outposteriori = widgets.VBox(\n",
    "[\n",
    "    widgets.Label(value=\"Probability that a patient will fall ill if the test is positive:\"),\n",
    "    widgets.FloatText(value = '%1.6f' % (pB_A.value * pA.value / \\\n",
    "                                         (pB_A.value * pA.value + pB_Anot.value * (1 - pA.value))),\\\n",
    "                      description=\"\", disabled = True, layout={'width': '30%'})\n",
    "])\n",
    "#\n",
    "BtnReset = widgets.Button(description=\"reset\", button_style='warning')\n",
    "#"
   ]
  },
  {
   "cell_type": "code",
   "execution_count": 3,
   "metadata": {
    "lang": "en"
   },
   "outputs": [],
   "source": [
    "# update function that is executed when a switch is changed\n",
    "#\n",
    "def update_view(*args):\n",
    "    \"\"\"                                      _\n",
    "             p(B|A) = 0.99      p (B|A) = 0.05\n",
    "            /                 _/\n",
    "        p(A)                p(A)\n",
    "            \\   _              \\  _ _\n",
    "             p (B|A) = 0.01     p(B|A) = 0.95\n",
    "             \n",
    "        P (diseased) = pA\n",
    "        P (not sick) = 1-pA\n",
    "        P (test _positive | ill) = pB_ A (default: 0.99)\n",
    "            {P (test _negative | diseased) = 1- pB_ A (default: 1 - 0.99)} not shown\n",
    "        P (test _positive | not ill) = pB_ Anot (default: 0.05)\n",
    "            {P (test _negative | not sick) = 1 - pB_ Anot (default: 1- 0.05)} not shown\n",
    "        P (ill | test _positive) = [pB_ A] *pA / [pB_A* pA + pB _Anot * 1-pA] {=> P (B) calculated over total probability }\n",
    "        \n",
    "        \"\"\"\n",
    "    outpriori.children[0].children[1].value = pA.value\n",
    "    outpriori.children[1].children[1].value = (1 - pA.value)\n",
    "    outpriori.children[2].children[1].value = '%1.6f' % (pB_A.value)\n",
    "    outpriori.children[3].children[1].value = '%1.6f' %(pB_Anot.value)\n",
    "    #\n",
    "    outposteriori.children[1].value = '%1.6f' % ((pB_A.value * pA.value) / \\\n",
    "                                                 (pB_A.value * pA.value + pB_Anot.value * (1-pA.value)))\n",
    "    #"
   ]
  },
  {
   "cell_type": "code",
   "execution_count": 4,
   "metadata": {
    "lang": "en"
   },
   "outputs": [],
   "source": [
    "# Reset settings to default values\n",
    "#\n",
    "def reset (* btn):\n",
    "    pA.value = 0.0001\n",
    "    pB_A.value = 0.99\n",
    "    pB_Anot.value= 0.0005\n",
    "    update_view()"
   ]
  },
  {
   "cell_type": "markdown",
   "metadata": {},
   "source": [
    "Bayes' theorem is shown here with interactive widgets.<br>Individual probabilities can be changed interactively so that the changes to the end result are immediately visible.\n",
    "\n",
    "\n",
    "In this example, a virtual medical test is taken to demonstrate Bayes' thoerem with the question:\n",
    " **Is a patient ill when the test is positive?**\n",
    "\n",
    "Interactive inputs:\n",
    "- If the patient is diseased, the test has a probability of 0.xx. (default: 0.99)\n",
    "- in x cases the test is positive, even if the patient is not diseased (default: 0.005)\n",
    "- Prior information, i.e. how widespread the disease is (default: 0.0001)\n",
    "\n",
    "The conditional probabilities are first calculated from this:\n",
    "- P(diseased)\n",
    "- P(not diseased)\n",
    "- P(test positive | diseased)\n",
    "- P(test positive | not diseased)\n",
    "\n",
    "And then by means of the Bayesian theorem P(diseased | test positive) - what we want to know.\n"
   ]
  },
  {
   "cell_type": "code",
   "execution_count": 5,
   "metadata": {
    "lang": "de"
   },
   "outputs": [
    {
     "data": {
      "application/vnd.jupyter.widget-view+json": {
       "model_id": "af73222fadb64f75a98956c18b5be588",
       "version_major": 2,
       "version_minor": 0
      },
      "text/plain": [
       "VBox(children=(HTML(value='<hr>'), VBox(children=(HBox(children=(Label(value='Spread of the disease:', layout=…"
      ]
     },
     "metadata": {},
     "output_type": "display_data"
    }
   ],
   "source": [
    "# Add update function\n",
    "#\n",
    "pA.observe(update_view, 'value')\n",
    "pB_A.observe(update_view, 'value')\n",
    "pB_Anot.observe(update_view, 'value')\n",
    "BtnReset.on_click(reset)\n",
    "#\n",
    "# Arrange switch\n",
    "#\n",
    "widgets.VBox([widgets.HTML(value=\"<hr>\"),\n",
    "              widgets.VBox([p_spreading, p_verify, p_error]),\n",
    "              widgets.HTML(value=\"<hr>\"),\n",
    "              outpriori,\n",
    "              widgets.HTML(value=\"<hr>\"),\n",
    "              outposteriori,\n",
    "              widgets.HTML(value=\"<hr>\"),\n",
    "              BtnReset])"
   ]
  },
  {
   "cell_type": "markdown",
   "metadata": {},
   "source": [
    "Copyright © 2020 IUBH Internationale Hochschule"
   ]
  }
 ],
 "metadata": {
  "kernelspec": {
   "display_name": "Python 3",
   "language": "python",
   "name": "python3"
  },
  "language_info": {
   "codemirror_mode": {
    "name": "ipython",
    "version": 3
   },
   "file_extension": ".py",
   "mimetype": "text/x-python",
   "name": "python",
   "nbconvert_exporter": "python",
   "pygments_lexer": "ipython3",
   "version": "3.8.2"
  },
  "nbTranslate": {
   "displayLangs": [
    "*"
   ],
   "hotkey": "alt-t",
   "langInMainMenu": true,
   "sourceLang": "de",
   "targetLang": "en",
   "useGoogleTranslate": true
  }
 },
 "nbformat": 4,
 "nbformat_minor": 4
}
