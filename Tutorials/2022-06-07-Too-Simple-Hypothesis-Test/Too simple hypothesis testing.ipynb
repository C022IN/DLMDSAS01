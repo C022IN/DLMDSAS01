{
 "cells": [
  {
   "cell_type": "markdown",
   "id": "526406f8",
   "metadata": {},
   "source": [
    "# Too Simple Hypothesis Testing\n",
    "\n",
    "We aim at testing a random variable $X\\sim B(p)$ (Bernoulli) is significantly smaller than the accepted average of $0.3$."
   ]
  },
  {
   "cell_type": "markdown",
   "id": "e8b14215",
   "metadata": {},
   "source": [
    "## Hypotheses\n",
    "\n",
    "- $H_0$: $p$ has not changed, that means $p=0.3$\n",
    "- $H_a$: $p$ is significantly smaller\n",
    "\n",
    "## Experiment\n",
    "\n",
    "An experiment of $n$ cases is the repetion of $n$ independent trials following the same distribution. $(X_1, ..., X_n)$.\n",
    "\n",
    "## Decision rule\n",
    "\n",
    "Define the new random variable $C = X_1+...+X_n$.\n",
    "We know that $C\\sim B(n,p)$ i.e. (see coursebook page 76):\n",
    "\n",
    "$$P(C=k) = {n \\choose k} p^k (1-p)^{n-k}$$\n",
    "\n",
    "Decision rule: reject $H_0$ and accept $H_a$ if $c<k$ for a well chosen $k$.\n",
    "\n",
    "## Errors\n",
    "\n",
    "Type 1: $\\alpha = P(\\mbox{ reject }H_0\\mbox{ while }p=0.3)$\n",
    "\n",
    "Type 2: $\\beta = P(\\mbox{ not reject }H_0\\mbox{ while }p<0.3)$\n",
    "\n",
    "## Calculation\n",
    "\n",
    "$$\\alpha = P(\\mbox{ reject }H_0\\mbox{ while }p=0.3) = P(C<k | p=0.3)$$\n",
    "$$\\beta = P(\\mbox{ not reject }H_0\\mbox{ while }p<0.3) = max_{p<0.3} P(C\\geq k|p)$$"
   ]
  },
  {
   "cell_type": "code",
   "execution_count": 6,
   "id": "1ad20632",
   "metadata": {},
   "outputs": [
    {
     "name": "stdout",
     "output_type": "stream",
     "text": [
      "alpha: 0.5491236007687906\n",
      "beta: 0.5115128333656663\n"
     ]
    }
   ],
   "source": [
    "from scipy.stats import binom\n",
    "\n",
    "n = 100\n",
    "p0 = 0.3\n",
    "k = 30\n",
    "\n",
    "print( \"alpha: \" + str(binom.cdf(k, n, p0)))\n",
    "\n",
    "## the following is only an estimate, we assume that the calculation is detailed enough\n",
    "\n",
    "rg = range(0,100)\n",
    "m = 0\n",
    "for r in rg:\n",
    "    p = p0 / 100 * r\n",
    "    b = 1-binom.cdf(k-1,n, p)\n",
    "    m = max(m,b)\n",
    "    \n",
    "print( \"beta: \" + str(m))\n"
   ]
  },
  {
   "cell_type": "markdown",
   "id": "0c8d4cfe",
   "metadata": {},
   "source": [
    "## Further on\n",
    "\n",
    "See the many test descriptions at the [Handbook of Engineering Statistics of NIST](https://www.itl.nist.gov/div898/handbook/)."
   ]
  },
  {
   "cell_type": "code",
   "execution_count": null,
   "id": "a61c582d",
   "metadata": {},
   "outputs": [],
   "source": []
  }
 ],
 "metadata": {
  "kernelspec": {
   "display_name": "Python 3 (ipykernel)",
   "language": "python",
   "name": "python3"
  },
  "language_info": {
   "codemirror_mode": {
    "name": "ipython",
    "version": 3
   },
   "file_extension": ".py",
   "mimetype": "text/x-python",
   "name": "python",
   "nbconvert_exporter": "python",
   "pygments_lexer": "ipython3",
   "version": "3.8.12"
  }
 },
 "nbformat": 4,
 "nbformat_minor": 5
}
