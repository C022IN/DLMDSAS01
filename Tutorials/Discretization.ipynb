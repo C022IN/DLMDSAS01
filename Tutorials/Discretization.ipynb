{
 "cells": [
  {
   "cell_type": "markdown",
   "id": "varied-occurrence",
   "metadata": {},
   "source": [
    "# Discretization: Histogram by the minute\n",
    "\n",
    "Consider the time until an event expressed as an exponential law $T:{\\mathcal S}\\longrightarrow {\\mathbb R}$ given by the probability density function:\n",
    "\n",
    "$$p(t) = \\lambda\\cdot e^{-\\lambda\\cdot t}$$\n",
    "\n",
    "Discretize this by the minute (e.g. minute is the probability that $T$ is in the minute)."
   ]
  },
  {
   "cell_type": "markdown",
   "id": "secure-guatemala",
   "metadata": {},
   "source": [
    "We wish to calculate for each $k\\in{\\mathbb N}$ the probability $P(T\\in[k,k+])$ which is\n",
    "\n",
    "$$ P(T\\in[k,k+]) = \\int_k^{k+1} p(t)dt = \\int_k^{k+1} \\lambda\\cdot e^{-\\lambda\\cdot t}$$"
   ]
  },
  {
   "cell_type": "markdown",
   "id": "exterior-tension",
   "metadata": {},
   "source": [
    "Considering that if $f(t)=-e^{-\\lambda\\cdot t}$ then \n",
    "$f'(t) = (-1\\cdot -1)\\cdot\\lambda\\cdot e^{-\\lambda\\cdot t}= \\lambda\\cdot e^{-\\lambda\\cdot t}$, \n",
    "we have thus:\n",
    "\n",
    "$$ \\int_k^{k+1} p(t)dt = f(k+1)-f(k)\n",
    "   = -e^{-\\lambda\\cdot (k+1)}+e^{-\\lambda\\cdot k}$$"
   ]
  },
  {
   "cell_type": "markdown",
   "id": "described-turkey",
   "metadata": {},
   "source": [
    "## Calculation\n",
    "\n",
    "Let us fix $\\lambda=22$ and compute the histogram by the minute where the bar for $k$ has height $P(T\\in[k,k+1])$:"
   ]
  },
  {
   "cell_type": "code",
   "execution_count": 27,
   "id": "present-offering",
   "metadata": {},
   "outputs": [
    {
     "data": {
      "image/png": "[encoded data removed]",
      "text/plain": [
       "<Figure size 432x288 with 1 Axes>"
      ]
     },
     "metadata": {
      "needs_background": "light"
     },
     "output_type": "display_data"
    }
   ],
   "source": [
    "import matplotlib.pyplot as plt\n",
    "import math as m\n",
    "\n",
    "Lambda = 1.3;\n",
    "X = [];\n",
    "Y = [];\n",
    "\n",
    "def f(i): \n",
    "    return -m.exp(-Lambda*(i+1))+m.exp(-Lambda*i)\n",
    "\n",
    "for i in range(1,10):\n",
    "    X.append(i)\n",
    "    Y.append(f(i))\n",
    "\n",
    "plt.xticks((min(X), max(X)))\n",
    "bars = plt.bar(X,Y)\n",
    "plt.savefig(\"/tmp/H.pdf\", format='pdf')\n",
    "plt.show()"
   ]
  },
  {
   "cell_type": "code",
   "execution_count": null,
   "id": "diagnostic-plasma",
   "metadata": {},
   "outputs": [],
   "source": []
  },
  {
   "cell_type": "code",
   "execution_count": null,
   "id": "cardiovascular-pharmacy",
   "metadata": {},
   "outputs": [],
   "source": []
  }
 ],
 "metadata": {
  "kernelspec": {
   "display_name": "Python 3",
   "language": "python",
   "name": "python3"
  },
  "language_info": {
   "codemirror_mode": {
    "name": "ipython",
    "version": 3
   },
   "file_extension": ".py",
   "mimetype": "text/x-python",
   "name": "python",
   "nbconvert_exporter": "python",
   "pygments_lexer": "ipython3",
   "version": "3.8.7"
  }
 },
 "nbformat": 4,
 "nbformat_minor": 5
}
