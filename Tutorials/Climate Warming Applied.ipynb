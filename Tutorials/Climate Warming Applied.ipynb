{
 "cells": [
  {
   "cell_type": "markdown",
   "id": "acoustic-likelihood",
   "metadata": {},
   "source": [
    "# Climate Warming Applied\n",
    "\n",
    "We want to use the [data of the german weather service](https://www.dwd.de/DE/leistungen/cdc_portal/cdc_portal.html) to evaluate the concrete change of temperature that can be measured at a given spot since the measures started.\n",
    "\n",
    "In this case, I choose a station close to me, the station 6217 which can be browsed from [the map](https://cdc.dwd.de/portal/index.html) and for which the historical data can be retrieved e.g. [in http](https://opendata.dwd.de/climate_environment/CDC/observations_germany/climate/hourly/air_temperature/historical/) for the hourly measures.\n",
    "\n",
    "Under the hypothesis that the temperature is under a warming process that is linear along the years, we apply linear regression (done in the course-book) to calculate the coefficient of the slope of the line approximating the temperature. We make a prediction of a temperature change for in 100 years."
   ]
  },
  {
   "cell_type": "code",
   "execution_count": 6,
   "id": "convenient-university",
   "metadata": {},
   "outputs": [],
   "source": [
    "import numpy\n",
    "import pandas\n",
    "from pandas import read_csv"
   ]
  },
  {
   "cell_type": "markdown",
   "id": "democratic-spanking",
   "metadata": {},
   "source": [
    "We download the data from _Stundenwerte_ (hourly values). The interesting file is the big txt file which needs a slightly special import command."
   ]
  },
  {
   "cell_type": "code",
   "execution_count": 54,
   "id": "insured-spread",
   "metadata": {},
   "outputs": [
    {
     "data": {
      "text/html": [
       "<div>\n",
       "<style scoped>\n",
       "    .dataframe tbody tr th:only-of-type {\n",
       "        vertical-align: middle;\n",
       "    }\n",
       "\n",
       "    .dataframe tbody tr th {\n",
       "        vertical-align: top;\n",
       "    }\n",
       "\n",
       "    .dataframe thead th {\n",
       "        text-align: right;\n",
       "    }\n",
       "</style>\n",
       "<table border=\"1\" class=\"dataframe\">\n",
       "  <thead>\n",
       "    <tr style=\"text-align: right;\">\n",
       "      <th></th>\n",
       "      <th>STATIONS_ID</th>\n",
       "      <th>MESS_DATUM</th>\n",
       "      <th>QN_9</th>\n",
       "      <th>TT_TU</th>\n",
       "      <th>RF_TU</th>\n",
       "      <th>eor</th>\n",
       "    </tr>\n",
       "  </thead>\n",
       "  <tbody>\n",
       "    <tr>\n",
       "      <th>0</th>\n",
       "      <td>6217</td>\n",
       "      <td>2004100100</td>\n",
       "      <td>3</td>\n",
       "      <td>12.8</td>\n",
       "      <td>91.0</td>\n",
       "      <td>eor</td>\n",
       "    </tr>\n",
       "    <tr>\n",
       "      <th>1</th>\n",
       "      <td>6217</td>\n",
       "      <td>2004100101</td>\n",
       "      <td>10</td>\n",
       "      <td>12.8</td>\n",
       "      <td>91.0</td>\n",
       "      <td>eor</td>\n",
       "    </tr>\n",
       "    <tr>\n",
       "      <th>2</th>\n",
       "      <td>6217</td>\n",
       "      <td>2004100102</td>\n",
       "      <td>10</td>\n",
       "      <td>12.4</td>\n",
       "      <td>91.0</td>\n",
       "      <td>eor</td>\n",
       "    </tr>\n",
       "    <tr>\n",
       "      <th>3</th>\n",
       "      <td>6217</td>\n",
       "      <td>2004100103</td>\n",
       "      <td>10</td>\n",
       "      <td>12.4</td>\n",
       "      <td>91.0</td>\n",
       "      <td>eor</td>\n",
       "    </tr>\n",
       "    <tr>\n",
       "      <th>4</th>\n",
       "      <td>6217</td>\n",
       "      <td>2004100104</td>\n",
       "      <td>10</td>\n",
       "      <td>12.5</td>\n",
       "      <td>90.0</td>\n",
       "      <td>eor</td>\n",
       "    </tr>\n",
       "    <tr>\n",
       "      <th>...</th>\n",
       "      <td>...</td>\n",
       "      <td>...</td>\n",
       "      <td>...</td>\n",
       "      <td>...</td>\n",
       "      <td>...</td>\n",
       "      <td>...</td>\n",
       "    </tr>\n",
       "    <tr>\n",
       "      <th>142344</th>\n",
       "      <td>6217</td>\n",
       "      <td>2020123119</td>\n",
       "      <td>3</td>\n",
       "      <td>1.8</td>\n",
       "      <td>94.0</td>\n",
       "      <td>eor</td>\n",
       "    </tr>\n",
       "    <tr>\n",
       "      <th>142345</th>\n",
       "      <td>6217</td>\n",
       "      <td>2020123120</td>\n",
       "      <td>3</td>\n",
       "      <td>2.0</td>\n",
       "      <td>92.0</td>\n",
       "      <td>eor</td>\n",
       "    </tr>\n",
       "    <tr>\n",
       "      <th>142346</th>\n",
       "      <td>6217</td>\n",
       "      <td>2020123121</td>\n",
       "      <td>3</td>\n",
       "      <td>2.4</td>\n",
       "      <td>94.0</td>\n",
       "      <td>eor</td>\n",
       "    </tr>\n",
       "    <tr>\n",
       "      <th>142347</th>\n",
       "      <td>6217</td>\n",
       "      <td>2020123122</td>\n",
       "      <td>3</td>\n",
       "      <td>2.7</td>\n",
       "      <td>93.0</td>\n",
       "      <td>eor</td>\n",
       "    </tr>\n",
       "    <tr>\n",
       "      <th>142348</th>\n",
       "      <td>6217</td>\n",
       "      <td>2020123123</td>\n",
       "      <td>3</td>\n",
       "      <td>2.7</td>\n",
       "      <td>91.0</td>\n",
       "      <td>eor</td>\n",
       "    </tr>\n",
       "  </tbody>\n",
       "</table>\n",
       "<p>142057 rows × 6 columns</p>\n",
       "</div>"
      ],
      "text/plain": [
       "        STATIONS_ID  MESS_DATUM  QN_9  TT_TU  RF_TU  eor\n",
       "0              6217  2004100100     3   12.8   91.0  eor\n",
       "1              6217  2004100101    10   12.8   91.0  eor\n",
       "2              6217  2004100102    10   12.4   91.0  eor\n",
       "3              6217  2004100103    10   12.4   91.0  eor\n",
       "4              6217  2004100104    10   12.5   90.0  eor\n",
       "...             ...         ...   ...    ...    ...  ...\n",
       "142344         6217  2020123119     3    1.8   94.0  eor\n",
       "142345         6217  2020123120     3    2.0   92.0  eor\n",
       "142346         6217  2020123121     3    2.4   94.0  eor\n",
       "142347         6217  2020123122     3    2.7   93.0  eor\n",
       "142348         6217  2020123123     3    2.7   91.0  eor\n",
       "\n",
       "[142057 rows x 6 columns]"
      ]
     },
     "execution_count": 54,
     "metadata": {},
     "output_type": "execute_result"
    }
   ],
   "source": [
    "df = read_csv(\"/tmp/stundenwerte_TU_06217_20041001_20201231_hist/produkt_tu_stunde_20041001_20201231_06217.txt\", sep=';')"
   ]
  },
  {
   "cell_type": "code",
   "execution_count": 57,
   "id": "accepted-primary",
   "metadata": {},
   "outputs": [
    {
     "data": {
      "text/plain": [
       "<AxesSubplot:>"
      ]
     },
     "execution_count": 57,
     "metadata": {},
     "output_type": "execute_result"
    },
    {
     "data": {
      "image/png": "[encoded data removed]",
      "text/plain": [
       "<Figure size 432x288 with 1 Axes>"
      ]
     },
     "metadata": {
      "needs_background": "light"
     },
     "output_type": "display_data"
    }
   ],
   "source": [
    "# lets plot them\n",
    "df.plot(y='TT_TU')"
   ]
  },
  {
   "cell_type": "code",
   "execution_count": 50,
   "id": "requested-treasure",
   "metadata": {},
   "outputs": [
    {
     "data": {
      "text/html": [
       "<div>\n",
       "<style scoped>\n",
       "    .dataframe tbody tr th:only-of-type {\n",
       "        vertical-align: middle;\n",
       "    }\n",
       "\n",
       "    .dataframe tbody tr th {\n",
       "        vertical-align: top;\n",
       "    }\n",
       "\n",
       "    .dataframe thead th {\n",
       "        text-align: right;\n",
       "    }\n",
       "</style>\n",
       "<table border=\"1\" class=\"dataframe\">\n",
       "  <thead>\n",
       "    <tr style=\"text-align: right;\">\n",
       "      <th></th>\n",
       "      <th>STATIONS_ID</th>\n",
       "      <th>MESS_DATUM</th>\n",
       "      <th>QN_9</th>\n",
       "      <th>TT_TU</th>\n",
       "      <th>RF_TU</th>\n",
       "      <th>eor</th>\n",
       "    </tr>\n",
       "  </thead>\n",
       "  <tbody>\n",
       "    <tr>\n",
       "      <th>0</th>\n",
       "      <td>6217</td>\n",
       "      <td>2004100100</td>\n",
       "      <td>3</td>\n",
       "      <td>12.8</td>\n",
       "      <td>91.0</td>\n",
       "      <td>eor</td>\n",
       "    </tr>\n",
       "    <tr>\n",
       "      <th>1</th>\n",
       "      <td>6217</td>\n",
       "      <td>2004100101</td>\n",
       "      <td>10</td>\n",
       "      <td>12.8</td>\n",
       "      <td>91.0</td>\n",
       "      <td>eor</td>\n",
       "    </tr>\n",
       "    <tr>\n",
       "      <th>2</th>\n",
       "      <td>6217</td>\n",
       "      <td>2004100102</td>\n",
       "      <td>10</td>\n",
       "      <td>12.4</td>\n",
       "      <td>91.0</td>\n",
       "      <td>eor</td>\n",
       "    </tr>\n",
       "    <tr>\n",
       "      <th>3</th>\n",
       "      <td>6217</td>\n",
       "      <td>2004100103</td>\n",
       "      <td>10</td>\n",
       "      <td>12.4</td>\n",
       "      <td>91.0</td>\n",
       "      <td>eor</td>\n",
       "    </tr>\n",
       "    <tr>\n",
       "      <th>4</th>\n",
       "      <td>6217</td>\n",
       "      <td>2004100104</td>\n",
       "      <td>10</td>\n",
       "      <td>12.5</td>\n",
       "      <td>90.0</td>\n",
       "      <td>eor</td>\n",
       "    </tr>\n",
       "    <tr>\n",
       "      <th>...</th>\n",
       "      <td>...</td>\n",
       "      <td>...</td>\n",
       "      <td>...</td>\n",
       "      <td>...</td>\n",
       "      <td>...</td>\n",
       "      <td>...</td>\n",
       "    </tr>\n",
       "    <tr>\n",
       "      <th>142344</th>\n",
       "      <td>6217</td>\n",
       "      <td>2020123119</td>\n",
       "      <td>3</td>\n",
       "      <td>1.8</td>\n",
       "      <td>94.0</td>\n",
       "      <td>eor</td>\n",
       "    </tr>\n",
       "    <tr>\n",
       "      <th>142345</th>\n",
       "      <td>6217</td>\n",
       "      <td>2020123120</td>\n",
       "      <td>3</td>\n",
       "      <td>2.0</td>\n",
       "      <td>92.0</td>\n",
       "      <td>eor</td>\n",
       "    </tr>\n",
       "    <tr>\n",
       "      <th>142346</th>\n",
       "      <td>6217</td>\n",
       "      <td>2020123121</td>\n",
       "      <td>3</td>\n",
       "      <td>2.4</td>\n",
       "      <td>94.0</td>\n",
       "      <td>eor</td>\n",
       "    </tr>\n",
       "    <tr>\n",
       "      <th>142347</th>\n",
       "      <td>6217</td>\n",
       "      <td>2020123122</td>\n",
       "      <td>3</td>\n",
       "      <td>2.7</td>\n",
       "      <td>93.0</td>\n",
       "      <td>eor</td>\n",
       "    </tr>\n",
       "    <tr>\n",
       "      <th>142348</th>\n",
       "      <td>6217</td>\n",
       "      <td>2020123123</td>\n",
       "      <td>3</td>\n",
       "      <td>2.7</td>\n",
       "      <td>91.0</td>\n",
       "      <td>eor</td>\n",
       "    </tr>\n",
       "  </tbody>\n",
       "</table>\n",
       "<p>142057 rows × 6 columns</p>\n",
       "</div>"
      ],
      "text/plain": [
       "        STATIONS_ID  MESS_DATUM  QN_9  TT_TU  RF_TU  eor\n",
       "0              6217  2004100100     3   12.8   91.0  eor\n",
       "1              6217  2004100101    10   12.8   91.0  eor\n",
       "2              6217  2004100102    10   12.4   91.0  eor\n",
       "3              6217  2004100103    10   12.4   91.0  eor\n",
       "4              6217  2004100104    10   12.5   90.0  eor\n",
       "...             ...         ...   ...    ...    ...  ...\n",
       "142344         6217  2020123119     3    1.8   94.0  eor\n",
       "142345         6217  2020123120     3    2.0   92.0  eor\n",
       "142346         6217  2020123121     3    2.4   94.0  eor\n",
       "142347         6217  2020123122     3    2.7   93.0  eor\n",
       "142348         6217  2020123123     3    2.7   91.0  eor\n",
       "\n",
       "[142057 rows x 6 columns]"
      ]
     },
     "execution_count": 50,
     "metadata": {},
     "output_type": "execute_result"
    }
   ],
   "source": [
    "# some values are -999... they should be removed.\n",
    "t = df[df['TT_TU']>-100]\n",
    "t"
   ]
  },
  {
   "cell_type": "markdown",
   "id": "revised-length",
   "metadata": {},
   "source": [
    "The following plot looks like a reasonable temperature change."
   ]
  },
  {
   "cell_type": "code",
   "execution_count": 52,
   "id": "significant-latest",
   "metadata": {},
   "outputs": [
    {
     "data": {
      "text/plain": [
       "<AxesSubplot:>"
      ]
     },
     "execution_count": 52,
     "metadata": {},
     "output_type": "execute_result"
    },
    {
     "data": {
      "image/png": "[encoded data removed]",
      "text/plain": [
       "<Figure size 432x288 with 1 Axes>"
      ]
     },
     "metadata": {
      "needs_background": "light"
     },
     "output_type": "display_data"
    }
   ],
   "source": [
    "t.plot(y='TT_TU')"
   ]
  },
  {
   "cell_type": "code",
   "execution_count": 45,
   "id": "statutory-texas",
   "metadata": {},
   "outputs": [],
   "source": [
    "sum1 = 0\n",
    "sum2 = 0\n",
    "for i in range(142348):\n",
    "    sum1 += i*df['TT_TU'][i]\n",
    "    sum2 += i*i\n",
    "    \n"
   ]
  },
  {
   "cell_type": "code",
   "execution_count": 47,
   "id": "other-pursuit",
   "metadata": {},
   "outputs": [
    {
     "data": {
      "text/plain": [
       "8.492456803739078e-05"
      ]
     },
     "execution_count": 47,
     "metadata": {},
     "output_type": "execute_result"
    }
   ],
   "source": [
    "sum1/sum2"
   ]
  },
  {
   "cell_type": "code",
   "execution_count": 48,
   "id": "sapphire-arizona",
   "metadata": {},
   "outputs": [
    {
     "data": {
      "text/plain": [
       "0.008492456803739078"
      ]
     },
     "execution_count": 48,
     "metadata": {},
     "output_type": "execute_result"
    }
   ],
   "source": [
    "# so in 100 years, it'd be\n",
    "sum1/sum2*100"
   ]
  },
  {
   "cell_type": "code",
   "execution_count": null,
   "id": "operating-pregnancy",
   "metadata": {},
   "outputs": [],
   "source": []
  }
 ],
 "metadata": {
  "kernelspec": {
   "display_name": "Python 3",
   "language": "python",
   "name": "python3"
  },
  "language_info": {
   "codemirror_mode": {
    "name": "ipython",
    "version": 3
   },
   "file_extension": ".py",
   "mimetype": "text/x-python",
   "name": "python",
   "nbconvert_exporter": "python",
   "pygments_lexer": "ipython3",
   "version": "3.8.7"
  }
 },
 "nbformat": 4,
 "nbformat_minor": 5
}
