{
 "cells": [
  {
   "cell_type": "markdown",
   "id": "falling-multimedia",
   "metadata": {},
   "source": [
    "# Simple data analysis\n",
    "\n",
    "... of a random discrete variable with integer values $X:{\\mathcal S}\\longrightarrow {\\mathbb N}$ given by the following probability mass function, given $b=\\frac{5}{6}$: \n",
    "\n",
    "$$P(X=k) = (1-b) \\cdot b^k $$"
   ]
  },
  {
   "cell_type": "code",
   "execution_count": 43,
   "id": "turkish-empire",
   "metadata": {},
   "outputs": [
    {
     "name": "stdout",
     "output_type": "stream",
     "text": [
      "Exectation until maximum:  5.0\n",
      "Variance:  30\n"
     ]
    }
   ],
   "source": [
    "import matplotlib . pyplot as plt \n",
    "import math as m\n",
    "import pandas as pd\n",
    "import numpy as np\n",
    "\n",
    "maximum=120\n",
    "Y_lambda=76\n",
    "precision=4\n",
    "\n",
    "def pmf(k):\n",
    "    base = 5/6\n",
    "    return (1-base)*m.pow(base,k)\n",
    "\n",
    "# variables for plotting\n",
    "X=[]\n",
    "Y=[]\n",
    "\n",
    "for i in range( maximum ): \n",
    "    X.append(i)\n",
    "    Y.append(pmf(i))\n",
    "\n",
    "## we accumulate expectation\n",
    "E_X = 0.0\n",
    "for i in range( maximum ): \n",
    "    E_X = E_X + i*pmf(i)\n",
    "\n",
    "print(\"Exectation until maximum: \", round(E_X,4))\n",
    "\n",
    "## we compute E(X^2) (which is sum(pmf(i)*i^2) because the values of i^2 are all obtained by going through i)\n",
    "## \n",
    "E_X_2 = 0.0\n",
    "\n",
    "for i in range(maximum):\n",
    "    E_X_2 = E_X_2 + pmf(i)*m.pow(i,2)\n",
    "\n",
    "VAR_X = E_X_2 - m.pow(E_X,2)\n",
    "\n",
    "print(\"Variance: \", round(VAR_X))\n",
    "\n",
    "\n"
   ]
  },
  {
   "cell_type": "markdown",
   "id": "married-honey",
   "metadata": {},
   "source": [
    "# Plotting"
   ]
  },
  {
   "cell_type": "code",
   "execution_count": 49,
   "id": "anonymous-nursing",
   "metadata": {},
   "outputs": [
    {
     "data": {
      "image/png": "[encoded data removed]",
      "text/plain": [
       "<Figure size 432x288 with 1 Axes>"
      ]
     },
     "metadata": {
      "needs_background": "light"
     },
     "output_type": "display_data"
    }
   ],
   "source": [
    "plt.xticks((min(X), maximum))\n",
    "bars = plt.bar(X,Y, color=['orangered','blue'])\n",
    "plt.axvline(x=E_X, ymin=0.0, ymax=1.0, color='grey')\n",
    "plt.text(E_X+2,0.0855, r'Expectation', color='grey')\n",
    "plt.title('discrete weird')\n",
    "plt.xlabel('values of i')\n",
    "plt.ylabel('probability of getting i')\n",
    "plt.axvline(x=VAR_X, ymin=0.0, ymax=1.0, color='green')\n",
    "plt.text(E_X+m.sqrt(VAR_X)+2,0.0455, r'std dev', color='green')\n",
    "plt.savefig(\"/tmp/G.pdf\", format='pdf')\n",
    "plt.show()"
   ]
  },
  {
   "cell_type": "code",
   "execution_count": null,
   "id": "reasonable-nightmare",
   "metadata": {},
   "outputs": [],
   "source": []
  }
 ],
 "metadata": {
  "kernelspec": {
   "display_name": "Python 3",
   "language": "python",
   "name": "python3"
  },
  "language_info": {
   "codemirror_mode": {
    "name": "ipython",
    "version": 3
   },
   "file_extension": ".py",
   "mimetype": "text/x-python",
   "name": "python",
   "nbconvert_exporter": "python",
   "pygments_lexer": "ipython3",
   "version": "3.8.7"
  }
 },
 "nbformat": 4,
 "nbformat_minor": 5
}
