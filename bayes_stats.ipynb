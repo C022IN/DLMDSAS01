{
 "cells": [
  {
   "cell_type": "markdown",
   "metadata": {},
   "source": [
    "#### Bayessche Statistik Interaktiv\n",
    "\n",
    "Theorem von Bayes:\n",
    "Für zwei Ereignisse A und B, für B ≠ 0, lautet das Satz von Bayes:\n",
    "$$ {P(A|B)} = \\frac{P(B|A) \\bullet P(A)}{P(B)}$$\n",
    "\n",
    "P(A | B) ist die (bedingte) Wahrscheinlichkeit des Ereignisses A unter der Bedingung, dass B eingetreten ist\n",
    "P(B | A) ist die (bedingte) Wahrscheinlichkeit des Ereignisses B unter der Bedingung, dass A eingetreten ist\n",
    "P(A) ist die Wahrscheinlichkeit (Anfangswahrscheinlichkeit) für das Eintreten des Ereignisses A\n",
    "P(B) ist die Wahrscheinlichkeit (Anfangswahrscheinlichkeit) für das Eintreten des Ereignisses B\n",
    "Anfangswahrscheinlichkeit meint, dass ein Ereignis unabhängig von einem anderen betrachtet wird."
   ]
  },
  {
   "cell_type": "code",
   "execution_count": 1,
   "metadata": {},
   "outputs": [],
   "source": [
    "#resourcen\n",
    "\n",
    "import ipywidgets as widgets\n",
    "import numpy as np\n"
   ]
  },
  {
   "cell_type": "code",
   "execution_count": 7,
   "metadata": {},
   "outputs": [],
   "source": [
    "# interaktive Schalter\n",
    "\n",
    "# Nachweissicherheit wenn Patient erkrankt\n",
    "pB_A = widgets.FloatSlider(min=0,max=100,value=99.0, step=0.1,\\\n",
    "                         layout={'width': 'max-content'})\n",
    "# Fehlerrate des Tests\n",
    "pB_Anot = widgets.FloatSlider(min=0, max=100, value= 0.5, step=0.1,\\\n",
    "                         layout={'width': 'max-content'},\n",
    "                              style = {'description_width': 'initial'})\n",
    "#\n",
    "pA = widgets.FloatText(value=0.0001, layout={'width': '20%'})\n",
    "#\n",
    "pVerbreitung = widgets.HBox(\n",
    "    [\n",
    "        widgets.Label(value=\"Verbreitung der Krankheit (in %):\"),\n",
    "        pA\n",
    "    ]\n",
    ")\n",
    "#\n",
    "pNachweis = widgets.VBox(\n",
    "    [\n",
    "        widgets.Label(\n",
    "            value='Nachweissicherheit des Tests wenn der patient erkrankt ist (in %):'),\n",
    "        pB_A        \n",
    "    ]\n",
    ")\n",
    "#\n",
    "pFehler = widgets.VBox(\n",
    "    [\n",
    "        widgets.Label(value='Fehlerrate des Tests wenn der Patient nicht erkrankt ist (in %):'),\n",
    "        pB_Anot\n",
    "    ]\n",
    ")\n",
    "#\n",
    "style = {'description_width': 'initial'}\n",
    "outpriori = widgets.VBox(\n",
    "[\n",
    "    # P(erkrankt) = pA\n",
    "    widgets.Box([widgets.Label(value=\"P(erkrankt)\", layout={'width': '30%'}),\n",
    "                widgets.FloatText(description = \"\", value = pA.value ,\\\n",
    "                                  layout={'width': '20%'}, style=style)]\n",
    "                ),\n",
    "    # P(nicht erkrankt) = 1-pA\n",
    "    widgets.Box([widgets.Label(value=\"P(nicht erkrankt)\", layout={'width': '30%'}),\n",
    "                 widgets.FloatText(value = ((1 - pA.value)),\\\n",
    "                                   layout ={'width': '20%'}, style=style)]\n",
    "               ),\n",
    "    # P(test_positiv|erkrankt) = PA * pB_A(pNachweissicherheit)\n",
    "    widgets.Box([widgets.Label(value= \"P(test_positiv|erkrankt)\", layout={'width': '30%'}),\n",
    "                 widgets.FloatText(value = '%2.3f' % ((pB_A.value * pA.value)),\\\n",
    "                                   layout={'width': '20%'}, style=style)]\n",
    "               ),\n",
    "    # P(test_positiv|nicht erkrankt) = P(nicht_erkrankt) * pFehlerrate (pB_Anot)\n",
    "    widgets.Box([widgets.Label(value=\"P(test_positiv|nicht erkrankt)\", layout={'width': '30%'}),\n",
    "                 widgets.FloatText(value = '%.3f' %((1- pA.value) * pB_Anot.value),\\\n",
    "                                   layout={'width': '20%'}, style=style)]\n",
    "               )\n",
    "    \n",
    "])\n",
    "# P(erkrankt|test_positiv) = [pA * pNachweissicherheit] / [pA * pNachweissicherheit + pA_not * pFehlerrate] {= pB über gesamtwahrscheinlichkeit}\n",
    "outposteriori = widgets.VBox(\n",
    "[\n",
    "    widgets.Label(value=\"Wahrscheinlichkeit dass ein Patient erkrankt ist, wenn der Test positiv anschlägt in(%):\"),\n",
    "    widgets.FloatText(value = '%.3f' % (pA.value * pB_A.value / (pA.value*pB_A.value + (1 - pA.value)*pB_Anot.value)),\\\n",
    "                      description=\"\", layout={'width': '30%'})\n",
    "])"
   ]
  },
  {
   "cell_type": "code",
   "execution_count": 8,
   "metadata": {},
   "outputs": [
    {
     "data": {
      "application/vnd.jupyter.widget-view+json": {
       "model_id": "90edb10fa9a64687a30410db58c55071",
       "version_major": 2,
       "version_minor": 0
      },
      "text/plain": [
       "VBox(children=(VBox(children=(HBox(children=(Label(value='Verbreitung der Krankheit (in %):'), FloatText(value…"
      ]
     },
     "metadata": {},
     "output_type": "display_data"
    }
   ],
   "source": [
    "# Schalter anordnen\n",
    "#\n",
    "widgets.VBox([widgets.VBox([pVerbreitung, pNachweis, pFehler]),\n",
    "             outpriori,\n",
    "             outposteriori])"
   ]
  }
 ],
 "metadata": {
  "kernelspec": {
   "display_name": "Python 3",
   "language": "python",
   "name": "python3"
  },
  "language_info": {
   "codemirror_mode": {
    "name": "ipython",
    "version": 3
   },
   "file_extension": ".py",
   "mimetype": "text/x-python",
   "name": "python",
   "nbconvert_exporter": "python",
   "pygments_lexer": "ipython3",
   "version": "3.8.2"
  },
  "nbTranslate": {
   "displayLangs": [
    "*"
   ],
   "hotkey": "alt-t",
   "langInMainMenu": true,
   "sourceLang": "en",
   "targetLang": "fr",
   "useGoogleTranslate": true
  }
 },
 "nbformat": 4,
 "nbformat_minor": 4
}
